{
 "cells": [
  {
   "cell_type": "markdown",
   "metadata": {},
   "source": [
    "### Military Spending Data from Kaggle"
   ]
  },
  {
   "cell_type": "code",
   "execution_count": 1,
   "metadata": {},
   "outputs": [],
   "source": [
    "import pandas as pd\n",
    "import numpy as np\n",
    "import matplotlib.pyplot as plt\n",
    "%matplotlib inline"
   ]
  },
  {
   "cell_type": "code",
   "execution_count": 2,
   "metadata": {},
   "outputs": [],
   "source": [
    "kaggle_file = './data/Military_Expenditure.csv'\n",
    "df = pd.read_csv(kaggle_file)"
   ]
  },
  {
   "cell_type": "code",
   "execution_count": 3,
   "metadata": {},
   "outputs": [
    {
     "name": "stdout",
     "output_type": "stream",
     "text": [
      "<class 'pandas.core.frame.DataFrame'>\n",
      "RangeIndex: 264 entries, 0 to 263\n",
      "Data columns (total 63 columns):\n",
      "Name              264 non-null object\n",
      "Code              264 non-null object\n",
      "Type              264 non-null object\n",
      "Indicator Name    264 non-null object\n",
      "1960              79 non-null float64\n",
      "1961              84 non-null float64\n",
      "1962              93 non-null float64\n",
      "1963              98 non-null float64\n",
      "1964              98 non-null float64\n",
      "1965              104 non-null float64\n",
      "1966              104 non-null float64\n",
      "1967              105 non-null float64\n",
      "1968              113 non-null float64\n",
      "1969              113 non-null float64\n",
      "1970              121 non-null float64\n",
      "1971              122 non-null float64\n",
      "1972              123 non-null float64\n",
      "1973              130 non-null float64\n",
      "1974              128 non-null float64\n",
      "1975              128 non-null float64\n",
      "1976              132 non-null float64\n",
      "1977              137 non-null float64\n",
      "1978              136 non-null float64\n",
      "1979              138 non-null float64\n",
      "1980              140 non-null float64\n",
      "1981              143 non-null float64\n",
      "1982              137 non-null float64\n",
      "1983              136 non-null float64\n",
      "1984              142 non-null float64\n",
      "1985              147 non-null float64\n",
      "1986              143 non-null float64\n",
      "1987              147 non-null float64\n",
      "1988              145 non-null float64\n",
      "1989              154 non-null float64\n",
      "1990              158 non-null float64\n",
      "1991              160 non-null float64\n",
      "1992              167 non-null float64\n",
      "1993              185 non-null float64\n",
      "1994              187 non-null float64\n",
      "1995              184 non-null float64\n",
      "1996              186 non-null float64\n",
      "1997              187 non-null float64\n",
      "1998              182 non-null float64\n",
      "1999              184 non-null float64\n",
      "2000              189 non-null float64\n",
      "2001              190 non-null float64\n",
      "2002              193 non-null float64\n",
      "2003              199 non-null float64\n",
      "2004              199 non-null float64\n",
      "2005              201 non-null float64\n",
      "2006              197 non-null float64\n",
      "2007              195 non-null float64\n",
      "2008              201 non-null float64\n",
      "2009              197 non-null float64\n",
      "2010              196 non-null float64\n",
      "2011              194 non-null float64\n",
      "2012              199 non-null float64\n",
      "2013              202 non-null float64\n",
      "2014              203 non-null float64\n",
      "2015              198 non-null float64\n",
      "2016              197 non-null float64\n",
      "2017              195 non-null float64\n",
      "2018              196 non-null float64\n",
      "dtypes: float64(59), object(4)\n",
      "memory usage: 130.1+ KB\n"
     ]
    }
   ],
   "source": [
    "df.info()"
   ]
  },
  {
   "cell_type": "code",
   "execution_count": 4,
   "metadata": {},
   "outputs": [],
   "source": [
    "df_us = df[df['Name'] == 'United States'].T"
   ]
  },
  {
   "cell_type": "code",
   "execution_count": 5,
   "metadata": {},
   "outputs": [],
   "source": [
    "us_expenditures = df_us[4:]"
   ]
  },
  {
   "cell_type": "code",
   "execution_count": 6,
   "metadata": {},
   "outputs": [],
   "source": [
    "type(us_expenditures)\n",
    "us_expenditures.reset_index(inplace=True)"
   ]
  },
  {
   "cell_type": "code",
   "execution_count": 7,
   "metadata": {},
   "outputs": [
    {
     "data": {
      "text/html": [
       "<div>\n",
       "<style scoped>\n",
       "    .dataframe tbody tr th:only-of-type {\n",
       "        vertical-align: middle;\n",
       "    }\n",
       "\n",
       "    .dataframe tbody tr th {\n",
       "        vertical-align: top;\n",
       "    }\n",
       "\n",
       "    .dataframe thead th {\n",
       "        text-align: right;\n",
       "    }\n",
       "</style>\n",
       "<table border=\"1\" class=\"dataframe\">\n",
       "  <thead>\n",
       "    <tr style=\"text-align: right;\">\n",
       "      <th></th>\n",
       "      <th>year</th>\n",
       "      <th>amt</th>\n",
       "    </tr>\n",
       "  </thead>\n",
       "  <tbody>\n",
       "    <tr>\n",
       "      <th>0</th>\n",
       "      <td>1960</td>\n",
       "      <td>4.538e+10</td>\n",
       "    </tr>\n",
       "    <tr>\n",
       "      <th>1</th>\n",
       "      <td>1961</td>\n",
       "      <td>4.7808e+10</td>\n",
       "    </tr>\n",
       "    <tr>\n",
       "      <th>2</th>\n",
       "      <td>1962</td>\n",
       "      <td>5.2381e+10</td>\n",
       "    </tr>\n",
       "    <tr>\n",
       "      <th>3</th>\n",
       "      <td>1963</td>\n",
       "      <td>5.2295e+10</td>\n",
       "    </tr>\n",
       "    <tr>\n",
       "      <th>4</th>\n",
       "      <td>1964</td>\n",
       "      <td>5.1213e+10</td>\n",
       "    </tr>\n",
       "  </tbody>\n",
       "</table>\n",
       "</div>"
      ],
      "text/plain": [
       "   year         amt\n",
       "0  1960   4.538e+10\n",
       "1  1961  4.7808e+10\n",
       "2  1962  5.2381e+10\n",
       "3  1963  5.2295e+10\n",
       "4  1964  5.1213e+10"
      ]
     },
     "execution_count": 7,
     "metadata": {},
     "output_type": "execute_result"
    }
   ],
   "source": [
    "us_expenditures.columns=['year','amt']\n",
    "us_expenditures.head()"
   ]
  },
  {
   "cell_type": "code",
   "execution_count": 8,
   "metadata": {},
   "outputs": [
    {
     "data": {
      "text/plain": [
       "[<matplotlib.lines.Line2D at 0x7fb4d859ee10>]"
      ]
     },
     "execution_count": 8,
     "metadata": {},
     "output_type": "execute_result"
    },
    {
     "data": {
      "image/png": "[encoded data removed]",
      "text/plain": [
       "<Figure size 432x288 with 1 Axes>"
      ]
     },
     "metadata": {
      "needs_background": "light"
     },
     "output_type": "display_data"
    }
   ],
   "source": [
    "plt.plot(us_expenditures[-12:]['year'], us_expenditures[-12:]['amt'])"
   ]
  },
  {
   "cell_type": "code",
   "execution_count": 9,
   "metadata": {},
   "outputs": [
    {
     "data": {
      "text/plain": [
       "RangeIndex(start=0, stop=59, step=1)"
      ]
     },
     "execution_count": 9,
     "metadata": {},
     "output_type": "execute_result"
    }
   ],
   "source": [
    "us_expenditures.index"
   ]
  },
  {
   "cell_type": "code",
   "execution_count": null,
   "metadata": {},
   "outputs": [],
   "source": []
  },
  {
   "cell_type": "code",
   "execution_count": null,
   "metadata": {},
   "outputs": [],
   "source": []
  }
 ],
 "metadata": {
  "kernelspec": {
   "display_name": "Python 3",
   "language": "python",
   "name": "python3"
  },
  "language_info": {
   "codemirror_mode": {
    "name": "ipython",
    "version": 3
   },
   "file_extension": ".py",
   "mimetype": "text/x-python",
   "name": "python",
   "nbconvert_exporter": "python",
   "pygments_lexer": "ipython3",
   "version": "3.7.4"
  }
 },
 "nbformat": 4,
 "nbformat_minor": 4
}
